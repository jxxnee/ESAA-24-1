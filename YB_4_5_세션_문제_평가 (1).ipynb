{
 "cells": [
  {
   "cell_type": "code",
   "execution_count": 1,
   "metadata": {
    "id": "4Zqc4O_BfWqZ"
   },
   "outputs": [
    {
     "name": "stderr",
     "output_type": "stream",
     "text": [
      "C:\\Users\\june0\\anaconda3\\lib\\site-packages\\scipy\\__init__.py:155: UserWarning: A NumPy version >=1.18.5 and <1.25.0 is required for this version of SciPy (detected version 1.26.4\n",
      "  warnings.warn(f\"A NumPy version >={np_minversion} and <{np_maxversion}\"\n"
     ]
    }
   ],
   "source": [
    "# 모듈 및 데이터 로드\n",
    "from sklearn.datasets import load_breast_cancer\n",
    "from sklearn.linear_model import LogisticRegression\n",
    "\n",
    "data = load_breast_cancer()\n",
    "\n",
    "# x, y 데이터 생성\n",
    "X = data.data\n",
    "\n",
    "# 악성을 1, 양성을 0으로\n",
    "y = 1 - data.target\n",
    "\n",
    "# 특징으로 사용할 데이터를 평균으로 구분하는 10개 열로 축소\n",
    "X = X[:, :10]\n",
    "\n",
    "# 로지스틱 회귀 모델 생성\n",
    "model_lor = LogisticRegression(solver = 'lbfgs')\n",
    "model_lor.fit(X,y)\n",
    "y_pred = model_lor.predict(X)"
   ]
  },
  {
   "cell_type": "markdown",
   "metadata": {
    "id": "faoAfc1ZgAcq"
   },
   "source": [
    "* 오차 행렬(혼동 행렬) 생성"
   ]
  },
  {
   "cell_type": "code",
   "execution_count": 2,
   "metadata": {
    "id": "JdML8YM0gBtu"
   },
   "outputs": [
    {
     "data": {
      "text/plain": [
       "array([[337,  20],\n",
       "       [ 30, 182]], dtype=int64)"
      ]
     },
     "execution_count": 2,
     "metadata": {},
     "output_type": "execute_result"
    }
   ],
   "source": [
    "# 종속 변수와 예측 결과로 혼동 행렬 생성\n",
    "from sklearn.metrics import confusion_matrix\n",
    "confusion_matrix(y,y_pred)"
   ]
  },
  {
   "cell_type": "markdown",
   "metadata": {
    "id": "xbcK3rT-gFRk"
   },
   "source": [
    "* 정확도"
   ]
  },
  {
   "cell_type": "code",
   "execution_count": 3,
   "metadata": {
    "id": "NLiXFuYvgI1e"
   },
   "outputs": [
    {
     "name": "stdout",
     "output_type": "stream",
     "text": [
      "0.9121265377855887\n"
     ]
    }
   ],
   "source": [
    "from sklearn.metrics import accuracy_score\n",
    "print(accuracy_score(y,y_pred))"
   ]
  },
  {
   "cell_type": "markdown",
   "metadata": {
    "id": "UYnVZS9igNNf"
   },
   "source": [
    "* 정밀도"
   ]
  },
  {
   "cell_type": "code",
   "execution_count": 4,
   "metadata": {
    "id": "j108NueLgMKF"
   },
   "outputs": [
    {
     "name": "stdout",
     "output_type": "stream",
     "text": [
      "0.900990099009901\n"
     ]
    }
   ],
   "source": [
    "from sklearn.metrics import precision_score\n",
    "print(precision_score(y,y_pred))"
   ]
  },
  {
   "cell_type": "markdown",
   "metadata": {
    "id": "2-MBquNJZOM4"
   },
   "source": [
    "* 재현율"
   ]
  },
  {
   "cell_type": "code",
   "execution_count": 6,
   "metadata": {
    "id": "uje4ivPvZPwv"
   },
   "outputs": [
    {
     "name": "stdout",
     "output_type": "stream",
     "text": [
      "0.8584905660377359\n"
     ]
    }
   ],
   "source": [
    "from sklearn.metrics import recall_score\n",
    "print(recall_score(y,y_pred))"
   ]
  },
  {
   "cell_type": "markdown",
   "metadata": {
    "id": "Cw1p3yjagUCH"
   },
   "source": [
    "* F1 score"
   ]
  },
  {
   "cell_type": "code",
   "execution_count": 7,
   "metadata": {
    "id": "hPdtYdoDgYgV"
   },
   "outputs": [
    {
     "name": "stdout",
     "output_type": "stream",
     "text": [
      "0.8792270531400966\n"
     ]
    }
   ],
   "source": [
    "from sklearn.metrics import f1_score\n",
    "print(f1_score(y,y_pred))"
   ]
  },
  {
   "cell_type": "markdown",
   "metadata": {
    "id": "fzwIFsKOW5a1"
   },
   "source": [
    "* 예측 확률(pred_proba) : 0으로 예측할 확률이 0.1보다 크면 y_pred2 에 넣는다 가정."
   ]
  },
  {
   "cell_type": "code",
   "execution_count": 8,
   "metadata": {
    "id": "nw9dxOiPW40l"
   },
   "outputs": [],
   "source": [
    "from sklearn.preprocessing import Binarizer\n",
    "\n",
    "pred_proba = model_lor.predict_proba(X)\n",
    "pred_proba1 = pred_proba[:,1].reshape(-1,1)\n",
    "binarizer = Binarizer(threshold=0.1)\n",
    "y_pred2 = binarizer.transform(pred_proba1)"
   ]
  },
  {
   "cell_type": "code",
   "execution_count": 14,
   "metadata": {
    "id": "Y-WrHrICYFB1"
   },
   "outputs": [
    {
     "name": "stdout",
     "output_type": "stream",
     "text": [
      "혼동행렬\n",
      "[[267  90]\n",
      " [  6 206]]\n",
      "정확도: 0.8312829525483304\n",
      "정밀도: 0.6959459459459459\n",
      "재현율: 0.9716981132075472\n",
      "f1 score: 0.8110236220472441\n"
     ]
    }
   ],
   "source": [
    "# y과 y_pred2의 혼동행렬, 정확도, 정밀도, 재현율, f1 score 구하기\n",
    "print('혼동행렬')\n",
    "print(confusion_matrix(y,y_pred2))\n",
    "\n",
    "print('정확도:', accuracy_score(y,y_pred2))\n",
    "print('정밀도:', precision_score(y,y_pred2))\n",
    "print('재현율:', recall_score(y,y_pred2))\n",
    "print('f1 score:', f1_score(y,y_pred2))"
   ]
  },
  {
   "cell_type": "markdown",
   "metadata": {
    "id": "itgf_OjsjU-R"
   },
   "source": [
    "* ROC 곡선 시각화"
   ]
  },
  {
   "cell_type": "code",
   "execution_count": 15,
   "metadata": {
    "id": "DW75xBokjXKy"
   },
   "outputs": [],
   "source": [
    "from sklearn.metrics import roc_curve\n",
    "\n",
    "probas = model_lor.predict_proba(X)\n",
    "fpr,tpr, thresholds = roc_curve(y,probas[:,1])"
   ]
  },
  {
   "cell_type": "code",
   "execution_count": 16,
   "metadata": {
    "id": "CSJ69SGJVh7m"
   },
   "outputs": [
    {
     "data": {
      "text/plain": [
       "[<matplotlib.lines.Line2D at 0x1f631c7ae50>]"
      ]
     },
     "execution_count": 16,
     "metadata": {},
     "output_type": "execute_result"
    },
    {
     "data": {
      "image/png": "[encoded data removed]",
      "text/plain": [
       "<Figure size 640x480 with 1 Axes>"
      ]
     },
     "metadata": {},
     "output_type": "display_data"
    }
   ],
   "source": [
    "import matplotlib.pyplot as plt\n",
    "plt.plot(fpr, tpr, label=\"ROC\")"
   ]
  },
  {
   "cell_type": "markdown",
   "metadata": {
    "id": "fL4as0YsWYD7"
   },
   "source": [
    "* ROC AUC 값"
   ]
  },
  {
   "cell_type": "code",
   "execution_count": 17,
   "metadata": {
    "id": "-SEElVZTWaVp"
   },
   "outputs": [
    {
     "name": "stdout",
     "output_type": "stream",
     "text": [
      "0.8597986364357064\n"
     ]
    }
   ],
   "source": [
    "from sklearn.metrics import roc_auc_score\n",
    "print(roc_auc_score(y,y_pred2))"
   ]
  }
 ],
 "metadata": {
  "colab": {
   "provenance": []
  },
  "kernelspec": {
   "display_name": "Python 3 (ipykernel)",
   "language": "python",
   "name": "python3"
  },
  "language_info": {
   "codemirror_mode": {
    "name": "ipython",
    "version": 3
   },
   "file_extension": ".py",
   "mimetype": "text/x-python",
   "name": "python",
   "nbconvert_exporter": "python",
   "pygments_lexer": "ipython3",
   "version": "3.9.13"
  }
 },
 "nbformat": 4,
 "nbformat_minor": 1
}
